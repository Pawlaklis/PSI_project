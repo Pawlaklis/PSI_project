{
 "cells": [
  {
   "cell_type": "markdown",
   "source": [
    "W projekcie będę pracował na zbiorze: https://archive.ics.uci.edu/ml/datasets/Bank+Marketing.\n",
    "\n",
    "Plan pracy:\n",
    "    Proces przetwarzania danych.\n",
    "    Proces modelowania (znajdowania optymalnych parametrów).\n",
    "    Porównanie modeli.\n",
    "    Wizualizacja wyników.\n",
    "    Podsumowanie pracy\n"
   ],
   "metadata": {
    "collapsed": false
   }
  },
  {
   "cell_type": "code",
   "execution_count": 1,
   "outputs": [
    {
     "name": "stdout",
     "output_type": "stream",
     "text": [
      "hello world\n"
     ]
    }
   ],
   "source": [
    "print(\"hello world\")"
   ],
   "metadata": {
    "collapsed": false,
    "pycharm": {
     "name": "#%%\n"
    }
   }
  },
  {
   "cell_type": "code",
   "execution_count": null,
   "outputs": [],
   "source": [],
   "metadata": {
    "collapsed": false,
    "pycharm": {
     "name": "#%%\n"
    }
   }
  }
 ],
 "metadata": {
  "kernelspec": {
   "display_name": "Python 3",
   "language": "python",
   "name": "python3"
  },
  "language_info": {
   "codemirror_mode": {
    "name": "ipython",
    "version": 2
   },
   "file_extension": ".py",
   "mimetype": "text/x-python",
   "name": "python",
   "nbconvert_exporter": "python",
   "pygments_lexer": "ipython2",
   "version": "2.7.6"
  }
 },
 "nbformat": 4,
 "nbformat_minor": 0
}